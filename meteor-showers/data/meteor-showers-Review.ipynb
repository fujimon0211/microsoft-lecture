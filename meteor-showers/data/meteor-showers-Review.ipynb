{
 "cells": [
  {
   "cell_type": "code",
   "execution_count": 1,
   "metadata": {},
   "outputs": [],
   "source": [
    "import pandas as pd\n",
    "import numpy as np"
   ]
  },
  {
   "cell_type": "markdown",
   "metadata": {},
   "source": [
    "### それぞれのcsvデータをmeteor_showers,moon_phases,constellations,citiesに格納してください"
   ]
  },
  {
   "cell_type": "code",
   "execution_count": 2,
   "metadata": {},
   "outputs": [],
   "source": [
    "meteor_showers=pd.read_csv('meteorshowers.csv')\n",
    "moon_phases=pd.read_csv('moonphases.csv')\n",
    "constellations=pd.read_csv('constellations.csv')\n",
    "cities=pd.read_csv('cities.csv')"
   ]
  },
  {
   "cell_type": "code",
   "execution_count": 3,
   "metadata": {},
   "outputs": [
    {
     "data": {
      "text/html": [
       "<div>\n",
       "<style scoped>\n",
       "    .dataframe tbody tr th:only-of-type {\n",
       "        vertical-align: middle;\n",
       "    }\n",
       "\n",
       "    .dataframe tbody tr th {\n",
       "        vertical-align: top;\n",
       "    }\n",
       "\n",
       "    .dataframe thead th {\n",
       "        text-align: right;\n",
       "    }\n",
       "</style>\n",
       "<table border=\"1\" class=\"dataframe\">\n",
       "  <thead>\n",
       "    <tr style=\"text-align: right;\">\n",
       "      <th></th>\n",
       "      <th>name</th>\n",
       "      <th>radiant</th>\n",
       "      <th>bestmonth</th>\n",
       "      <th>startmonth</th>\n",
       "      <th>startday</th>\n",
       "      <th>endmonth</th>\n",
       "      <th>endday</th>\n",
       "      <th>hemisphere</th>\n",
       "      <th>preferredhemisphere</th>\n",
       "    </tr>\n",
       "  </thead>\n",
       "  <tbody>\n",
       "    <tr>\n",
       "      <th>0</th>\n",
       "      <td>Lyrids</td>\n",
       "      <td>Lyra</td>\n",
       "      <td>april</td>\n",
       "      <td>april</td>\n",
       "      <td>21</td>\n",
       "      <td>april</td>\n",
       "      <td>22</td>\n",
       "      <td>northern</td>\n",
       "      <td>northern</td>\n",
       "    </tr>\n",
       "    <tr>\n",
       "      <th>1</th>\n",
       "      <td>Eta Aquarids</td>\n",
       "      <td>Aquarius</td>\n",
       "      <td>may</td>\n",
       "      <td>april</td>\n",
       "      <td>19</td>\n",
       "      <td>may</td>\n",
       "      <td>28</td>\n",
       "      <td>northern, southern</td>\n",
       "      <td>southern</td>\n",
       "    </tr>\n",
       "    <tr>\n",
       "      <th>2</th>\n",
       "      <td>Orionids</td>\n",
       "      <td>Orion</td>\n",
       "      <td>october</td>\n",
       "      <td>october</td>\n",
       "      <td>2</td>\n",
       "      <td>november</td>\n",
       "      <td>7</td>\n",
       "      <td>northern, southern</td>\n",
       "      <td>northern, southern</td>\n",
       "    </tr>\n",
       "    <tr>\n",
       "      <th>3</th>\n",
       "      <td>Perseids</td>\n",
       "      <td>Perseus</td>\n",
       "      <td>august</td>\n",
       "      <td>july</td>\n",
       "      <td>14</td>\n",
       "      <td>august</td>\n",
       "      <td>24</td>\n",
       "      <td>northern</td>\n",
       "      <td>northern</td>\n",
       "    </tr>\n",
       "    <tr>\n",
       "      <th>4</th>\n",
       "      <td>Leonids</td>\n",
       "      <td>Leo</td>\n",
       "      <td>november</td>\n",
       "      <td>november</td>\n",
       "      <td>6</td>\n",
       "      <td>november</td>\n",
       "      <td>30</td>\n",
       "      <td>northern, southern</td>\n",
       "      <td>northern, southern</td>\n",
       "    </tr>\n",
       "  </tbody>\n",
       "</table>\n",
       "</div>"
      ],
      "text/plain": [
       "           name   radiant bestmonth startmonth  startday  endmonth  endday  \\\n",
       "0        Lyrids      Lyra     april      april        21     april      22   \n",
       "1  Eta Aquarids  Aquarius       may      april        19       may      28   \n",
       "2      Orionids     Orion   october    october         2  november       7   \n",
       "3      Perseids   Perseus    august       july        14    august      24   \n",
       "4       Leonids       Leo  november   november         6  november      30   \n",
       "\n",
       "           hemisphere preferredhemisphere  \n",
       "0            northern            northern  \n",
       "1  northern, southern            southern  \n",
       "2  northern, southern  northern, southern  \n",
       "3            northern            northern  \n",
       "4  northern, southern  northern, southern  "
      ]
     },
     "execution_count": 3,
     "metadata": {},
     "output_type": "execute_result"
    }
   ],
   "source": [
    "meteor_showers.head()"
   ]
  },
  {
   "cell_type": "code",
   "execution_count": 4,
   "metadata": {},
   "outputs": [
    {
     "name": "stdout",
     "output_type": "stream",
     "text": [
      "<class 'pandas.core.frame.DataFrame'>\n",
      "RangeIndex: 5 entries, 0 to 4\n",
      "Data columns (total 9 columns):\n",
      " #   Column               Non-Null Count  Dtype \n",
      "---  ------               --------------  ----- \n",
      " 0   name                 5 non-null      object\n",
      " 1   radiant              5 non-null      object\n",
      " 2   bestmonth            5 non-null      object\n",
      " 3   startmonth           5 non-null      object\n",
      " 4   startday             5 non-null      int64 \n",
      " 5   endmonth             5 non-null      object\n",
      " 6   endday               5 non-null      int64 \n",
      " 7   hemisphere           5 non-null      object\n",
      " 8   preferredhemisphere  5 non-null      object\n",
      "dtypes: int64(2), object(7)\n",
      "memory usage: 488.0+ bytes\n"
     ]
    }
   ],
   "source": [
    "meteor_showers.info()"
   ]
  },
  {
   "cell_type": "code",
   "execution_count": 5,
   "metadata": {},
   "outputs": [
    {
     "data": {
      "text/html": [
       "<div>\n",
       "<style scoped>\n",
       "    .dataframe tbody tr th:only-of-type {\n",
       "        vertical-align: middle;\n",
       "    }\n",
       "\n",
       "    .dataframe tbody tr th {\n",
       "        vertical-align: top;\n",
       "    }\n",
       "\n",
       "    .dataframe thead th {\n",
       "        text-align: right;\n",
       "    }\n",
       "</style>\n",
       "<table border=\"1\" class=\"dataframe\">\n",
       "  <thead>\n",
       "    <tr style=\"text-align: right;\">\n",
       "      <th></th>\n",
       "      <th>month</th>\n",
       "      <th>day</th>\n",
       "      <th>moonphase</th>\n",
       "      <th>specialevent</th>\n",
       "    </tr>\n",
       "  </thead>\n",
       "  <tbody>\n",
       "    <tr>\n",
       "      <th>0</th>\n",
       "      <td>january</td>\n",
       "      <td>1</td>\n",
       "      <td>NaN</td>\n",
       "      <td>NaN</td>\n",
       "    </tr>\n",
       "    <tr>\n",
       "      <th>1</th>\n",
       "      <td>january</td>\n",
       "      <td>2</td>\n",
       "      <td>first quarter</td>\n",
       "      <td>NaN</td>\n",
       "    </tr>\n",
       "    <tr>\n",
       "      <th>2</th>\n",
       "      <td>january</td>\n",
       "      <td>3</td>\n",
       "      <td>NaN</td>\n",
       "      <td>NaN</td>\n",
       "    </tr>\n",
       "    <tr>\n",
       "      <th>3</th>\n",
       "      <td>january</td>\n",
       "      <td>4</td>\n",
       "      <td>NaN</td>\n",
       "      <td>NaN</td>\n",
       "    </tr>\n",
       "    <tr>\n",
       "      <th>4</th>\n",
       "      <td>january</td>\n",
       "      <td>5</td>\n",
       "      <td>NaN</td>\n",
       "      <td>NaN</td>\n",
       "    </tr>\n",
       "  </tbody>\n",
       "</table>\n",
       "</div>"
      ],
      "text/plain": [
       "     month  day      moonphase specialevent\n",
       "0  january    1            NaN          NaN\n",
       "1  january    2  first quarter          NaN\n",
       "2  january    3            NaN          NaN\n",
       "3  january    4            NaN          NaN\n",
       "4  january    5            NaN          NaN"
      ]
     },
     "execution_count": 5,
     "metadata": {},
     "output_type": "execute_result"
    }
   ],
   "source": [
    "moon_phases.head()"
   ]
  },
  {
   "cell_type": "code",
   "execution_count": 6,
   "metadata": {},
   "outputs": [
    {
     "name": "stdout",
     "output_type": "stream",
     "text": [
      "<class 'pandas.core.frame.DataFrame'>\n",
      "RangeIndex: 366 entries, 0 to 365\n",
      "Data columns (total 4 columns):\n",
      " #   Column        Non-Null Count  Dtype \n",
      "---  ------        --------------  ----- \n",
      " 0   month         366 non-null    object\n",
      " 1   day           366 non-null    int64 \n",
      " 2   moonphase     50 non-null     object\n",
      " 3   specialevent  10 non-null     object\n",
      "dtypes: int64(1), object(3)\n",
      "memory usage: 11.6+ KB\n"
     ]
    }
   ],
   "source": [
    "moon_phases.info()"
   ]
  },
  {
   "cell_type": "code",
   "execution_count": 7,
   "metadata": {},
   "outputs": [
    {
     "data": {
      "text/html": [
       "<div>\n",
       "<style scoped>\n",
       "    .dataframe tbody tr th:only-of-type {\n",
       "        vertical-align: middle;\n",
       "    }\n",
       "\n",
       "    .dataframe tbody tr th {\n",
       "        vertical-align: top;\n",
       "    }\n",
       "\n",
       "    .dataframe thead th {\n",
       "        text-align: right;\n",
       "    }\n",
       "</style>\n",
       "<table border=\"1\" class=\"dataframe\">\n",
       "  <thead>\n",
       "    <tr style=\"text-align: right;\">\n",
       "      <th></th>\n",
       "      <th>constellation</th>\n",
       "      <th>bestmonth</th>\n",
       "      <th>latitudestart</th>\n",
       "      <th>latitudeend</th>\n",
       "      <th>besttime</th>\n",
       "      <th>hemisphere</th>\n",
       "    </tr>\n",
       "  </thead>\n",
       "  <tbody>\n",
       "    <tr>\n",
       "      <th>0</th>\n",
       "      <td>Lyra</td>\n",
       "      <td>august</td>\n",
       "      <td>90</td>\n",
       "      <td>-40</td>\n",
       "      <td>21:00</td>\n",
       "      <td>northern</td>\n",
       "    </tr>\n",
       "    <tr>\n",
       "      <th>1</th>\n",
       "      <td>Aquarius</td>\n",
       "      <td>october</td>\n",
       "      <td>65</td>\n",
       "      <td>-90</td>\n",
       "      <td>21:00</td>\n",
       "      <td>southern</td>\n",
       "    </tr>\n",
       "    <tr>\n",
       "      <th>2</th>\n",
       "      <td>Orion</td>\n",
       "      <td>january</td>\n",
       "      <td>85</td>\n",
       "      <td>-75</td>\n",
       "      <td>21:00</td>\n",
       "      <td>northern</td>\n",
       "    </tr>\n",
       "    <tr>\n",
       "      <th>3</th>\n",
       "      <td>Perseus</td>\n",
       "      <td>december</td>\n",
       "      <td>90</td>\n",
       "      <td>-35</td>\n",
       "      <td>21:00</td>\n",
       "      <td>northern</td>\n",
       "    </tr>\n",
       "    <tr>\n",
       "      <th>4</th>\n",
       "      <td>Leo</td>\n",
       "      <td>april</td>\n",
       "      <td>90</td>\n",
       "      <td>65</td>\n",
       "      <td>21:00</td>\n",
       "      <td>northern</td>\n",
       "    </tr>\n",
       "  </tbody>\n",
       "</table>\n",
       "</div>"
      ],
      "text/plain": [
       "  constellation bestmonth  latitudestart  latitudeend besttime hemisphere\n",
       "0          Lyra    august             90          -40    21:00   northern\n",
       "1      Aquarius   october             65          -90    21:00   southern\n",
       "2         Orion   january             85          -75    21:00   northern\n",
       "3       Perseus  december             90          -35    21:00   northern\n",
       "4           Leo     april             90           65    21:00   northern"
      ]
     },
     "execution_count": 7,
     "metadata": {},
     "output_type": "execute_result"
    }
   ],
   "source": [
    "constellations.head()"
   ]
  },
  {
   "cell_type": "code",
   "execution_count": 8,
   "metadata": {},
   "outputs": [
    {
     "name": "stdout",
     "output_type": "stream",
     "text": [
      "<class 'pandas.core.frame.DataFrame'>\n",
      "RangeIndex: 5 entries, 0 to 4\n",
      "Data columns (total 6 columns):\n",
      " #   Column         Non-Null Count  Dtype \n",
      "---  ------         --------------  ----- \n",
      " 0   constellation  5 non-null      object\n",
      " 1   bestmonth      5 non-null      object\n",
      " 2   latitudestart  5 non-null      int64 \n",
      " 3   latitudeend    5 non-null      int64 \n",
      " 4   besttime       5 non-null      object\n",
      " 5   hemisphere     5 non-null      object\n",
      "dtypes: int64(2), object(4)\n",
      "memory usage: 368.0+ bytes\n"
     ]
    }
   ],
   "source": [
    "constellations.info()"
   ]
  },
  {
   "cell_type": "code",
   "execution_count": 9,
   "metadata": {},
   "outputs": [
    {
     "data": {
      "text/html": [
       "<div>\n",
       "<style scoped>\n",
       "    .dataframe tbody tr th:only-of-type {\n",
       "        vertical-align: middle;\n",
       "    }\n",
       "\n",
       "    .dataframe tbody tr th {\n",
       "        vertical-align: top;\n",
       "    }\n",
       "\n",
       "    .dataframe thead th {\n",
       "        text-align: right;\n",
       "    }\n",
       "</style>\n",
       "<table border=\"1\" class=\"dataframe\">\n",
       "  <thead>\n",
       "    <tr style=\"text-align: right;\">\n",
       "      <th></th>\n",
       "      <th>city</th>\n",
       "      <th>latitude</th>\n",
       "      <th>country</th>\n",
       "    </tr>\n",
       "  </thead>\n",
       "  <tbody>\n",
       "    <tr>\n",
       "      <th>0</th>\n",
       "      <td>Abu Dhabi</td>\n",
       "      <td>24.47</td>\n",
       "      <td>United Arab Emirates</td>\n",
       "    </tr>\n",
       "    <tr>\n",
       "      <th>1</th>\n",
       "      <td>Abuja</td>\n",
       "      <td>9.07</td>\n",
       "      <td>Nigeria</td>\n",
       "    </tr>\n",
       "    <tr>\n",
       "      <th>2</th>\n",
       "      <td>Accra</td>\n",
       "      <td>5.55</td>\n",
       "      <td>Ghana</td>\n",
       "    </tr>\n",
       "    <tr>\n",
       "      <th>3</th>\n",
       "      <td>Adamstown</td>\n",
       "      <td>-25.07</td>\n",
       "      <td>Pitcairn Islands</td>\n",
       "    </tr>\n",
       "    <tr>\n",
       "      <th>4</th>\n",
       "      <td>Addis Ababa</td>\n",
       "      <td>9.02</td>\n",
       "      <td>Ethiopia</td>\n",
       "    </tr>\n",
       "  </tbody>\n",
       "</table>\n",
       "</div>"
      ],
      "text/plain": [
       "          city  latitude               country\n",
       "0    Abu Dhabi     24.47  United Arab Emirates\n",
       "1        Abuja      9.07               Nigeria\n",
       "2        Accra      5.55                 Ghana\n",
       "3    Adamstown    -25.07      Pitcairn Islands\n",
       "4  Addis Ababa      9.02              Ethiopia"
      ]
     },
     "execution_count": 9,
     "metadata": {},
     "output_type": "execute_result"
    }
   ],
   "source": [
    "cities.head()"
   ]
  },
  {
   "cell_type": "code",
   "execution_count": 10,
   "metadata": {},
   "outputs": [
    {
     "name": "stdout",
     "output_type": "stream",
     "text": [
      "<class 'pandas.core.frame.DataFrame'>\n",
      "RangeIndex: 256 entries, 0 to 255\n",
      "Data columns (total 3 columns):\n",
      " #   Column    Non-Null Count  Dtype  \n",
      "---  ------    --------------  -----  \n",
      " 0   city      256 non-null    object \n",
      " 1   latitude  256 non-null    float64\n",
      " 2   country   256 non-null    object \n",
      "dtypes: float64(1), object(2)\n",
      "memory usage: 6.1+ KB\n"
     ]
    }
   ],
   "source": [
    "cities.info()"
   ]
  },
  {
   "cell_type": "markdown",
   "metadata": {},
   "source": [
    "### 月をそれぞれ数字に変換し、mapメゾットを使って対象となる月を変換してください"
   ]
  },
  {
   "cell_type": "code",
   "execution_count": 11,
   "metadata": {},
   "outputs": [
    {
     "data": {
      "text/plain": [
       "array(['january', 'february', 'march', 'april', 'may', 'june', 'july',\n",
       "       'august', 'september', 'october', 'november', 'december'],\n",
       "      dtype=object)"
      ]
     },
     "execution_count": 11,
     "metadata": {},
     "output_type": "execute_result"
    }
   ],
   "source": [
    "moon_phases['month'].unique()"
   ]
  },
  {
   "cell_type": "code",
   "execution_count": 12,
   "metadata": {},
   "outputs": [],
   "source": [
    "months={'january':1, 'february':2, 'march':3, 'april':4, 'may':5, 'june':6, 'july':7,\n",
    "       'august':8, 'september':9, 'october':10, 'november':11, 'december':12}"
   ]
  },
  {
   "cell_type": "code",
   "execution_count": 13,
   "metadata": {},
   "outputs": [],
   "source": [
    "meteor_showers['bestmonth']=meteor_showers['bestmonth'].map(months)\n",
    "meteor_showers['startmonth']=meteor_showers['startmonth'].map(months)\n",
    "meteor_showers['endmonth']=meteor_showers['endmonth'].map(months)\n",
    "moon_phases['month']=moon_phases['month'].map(months)\n",
    "constellations['bestmonth']=constellations['bestmonth'].map(months)"
   ]
  },
  {
   "cell_type": "code",
   "execution_count": 14,
   "metadata": {},
   "outputs": [
    {
     "data": {
      "text/html": [
       "<div>\n",
       "<style scoped>\n",
       "    .dataframe tbody tr th:only-of-type {\n",
       "        vertical-align: middle;\n",
       "    }\n",
       "\n",
       "    .dataframe tbody tr th {\n",
       "        vertical-align: top;\n",
       "    }\n",
       "\n",
       "    .dataframe thead th {\n",
       "        text-align: right;\n",
       "    }\n",
       "</style>\n",
       "<table border=\"1\" class=\"dataframe\">\n",
       "  <thead>\n",
       "    <tr style=\"text-align: right;\">\n",
       "      <th></th>\n",
       "      <th>constellation</th>\n",
       "      <th>bestmonth</th>\n",
       "      <th>latitudestart</th>\n",
       "      <th>latitudeend</th>\n",
       "      <th>besttime</th>\n",
       "      <th>hemisphere</th>\n",
       "    </tr>\n",
       "  </thead>\n",
       "  <tbody>\n",
       "    <tr>\n",
       "      <th>0</th>\n",
       "      <td>Lyra</td>\n",
       "      <td>8</td>\n",
       "      <td>90</td>\n",
       "      <td>-40</td>\n",
       "      <td>21:00</td>\n",
       "      <td>northern</td>\n",
       "    </tr>\n",
       "    <tr>\n",
       "      <th>1</th>\n",
       "      <td>Aquarius</td>\n",
       "      <td>10</td>\n",
       "      <td>65</td>\n",
       "      <td>-90</td>\n",
       "      <td>21:00</td>\n",
       "      <td>southern</td>\n",
       "    </tr>\n",
       "    <tr>\n",
       "      <th>2</th>\n",
       "      <td>Orion</td>\n",
       "      <td>1</td>\n",
       "      <td>85</td>\n",
       "      <td>-75</td>\n",
       "      <td>21:00</td>\n",
       "      <td>northern</td>\n",
       "    </tr>\n",
       "    <tr>\n",
       "      <th>3</th>\n",
       "      <td>Perseus</td>\n",
       "      <td>12</td>\n",
       "      <td>90</td>\n",
       "      <td>-35</td>\n",
       "      <td>21:00</td>\n",
       "      <td>northern</td>\n",
       "    </tr>\n",
       "    <tr>\n",
       "      <th>4</th>\n",
       "      <td>Leo</td>\n",
       "      <td>4</td>\n",
       "      <td>90</td>\n",
       "      <td>65</td>\n",
       "      <td>21:00</td>\n",
       "      <td>northern</td>\n",
       "    </tr>\n",
       "  </tbody>\n",
       "</table>\n",
       "</div>"
      ],
      "text/plain": [
       "  constellation  bestmonth  latitudestart  latitudeend besttime hemisphere\n",
       "0          Lyra          8             90          -40    21:00   northern\n",
       "1      Aquarius         10             65          -90    21:00   southern\n",
       "2         Orion          1             85          -75    21:00   northern\n",
       "3       Perseus         12             90          -35    21:00   northern\n",
       "4           Leo          4             90           65    21:00   northern"
      ]
     },
     "execution_count": 14,
     "metadata": {},
     "output_type": "execute_result"
    }
   ],
   "source": [
    "constellations.head()"
   ]
  },
  {
   "cell_type": "code",
   "execution_count": 15,
   "metadata": {},
   "outputs": [
    {
     "data": {
      "text/html": [
       "<div>\n",
       "<style scoped>\n",
       "    .dataframe tbody tr th:only-of-type {\n",
       "        vertical-align: middle;\n",
       "    }\n",
       "\n",
       "    .dataframe tbody tr th {\n",
       "        vertical-align: top;\n",
       "    }\n",
       "\n",
       "    .dataframe thead th {\n",
       "        text-align: right;\n",
       "    }\n",
       "</style>\n",
       "<table border=\"1\" class=\"dataframe\">\n",
       "  <thead>\n",
       "    <tr style=\"text-align: right;\">\n",
       "      <th></th>\n",
       "      <th>month</th>\n",
       "      <th>day</th>\n",
       "      <th>moonphase</th>\n",
       "      <th>specialevent</th>\n",
       "    </tr>\n",
       "  </thead>\n",
       "  <tbody>\n",
       "    <tr>\n",
       "      <th>0</th>\n",
       "      <td>1</td>\n",
       "      <td>1</td>\n",
       "      <td>NaN</td>\n",
       "      <td>NaN</td>\n",
       "    </tr>\n",
       "    <tr>\n",
       "      <th>1</th>\n",
       "      <td>1</td>\n",
       "      <td>2</td>\n",
       "      <td>first quarter</td>\n",
       "      <td>NaN</td>\n",
       "    </tr>\n",
       "    <tr>\n",
       "      <th>2</th>\n",
       "      <td>1</td>\n",
       "      <td>3</td>\n",
       "      <td>NaN</td>\n",
       "      <td>NaN</td>\n",
       "    </tr>\n",
       "    <tr>\n",
       "      <th>3</th>\n",
       "      <td>1</td>\n",
       "      <td>4</td>\n",
       "      <td>NaN</td>\n",
       "      <td>NaN</td>\n",
       "    </tr>\n",
       "    <tr>\n",
       "      <th>4</th>\n",
       "      <td>1</td>\n",
       "      <td>5</td>\n",
       "      <td>NaN</td>\n",
       "      <td>NaN</td>\n",
       "    </tr>\n",
       "  </tbody>\n",
       "</table>\n",
       "</div>"
      ],
      "text/plain": [
       "   month  day      moonphase specialevent\n",
       "0      1    1            NaN          NaN\n",
       "1      1    2  first quarter          NaN\n",
       "2      1    3            NaN          NaN\n",
       "3      1    4            NaN          NaN\n",
       "4      1    5            NaN          NaN"
      ]
     },
     "execution_count": 15,
     "metadata": {},
     "output_type": "execute_result"
    }
   ],
   "source": [
    "moon_phases.head()"
   ]
  },
  {
   "cell_type": "code",
   "execution_count": 16,
   "metadata": {},
   "outputs": [
    {
     "data": {
      "text/html": [
       "<div>\n",
       "<style scoped>\n",
       "    .dataframe tbody tr th:only-of-type {\n",
       "        vertical-align: middle;\n",
       "    }\n",
       "\n",
       "    .dataframe tbody tr th {\n",
       "        vertical-align: top;\n",
       "    }\n",
       "\n",
       "    .dataframe thead th {\n",
       "        text-align: right;\n",
       "    }\n",
       "</style>\n",
       "<table border=\"1\" class=\"dataframe\">\n",
       "  <thead>\n",
       "    <tr style=\"text-align: right;\">\n",
       "      <th></th>\n",
       "      <th>name</th>\n",
       "      <th>radiant</th>\n",
       "      <th>bestmonth</th>\n",
       "      <th>startmonth</th>\n",
       "      <th>startday</th>\n",
       "      <th>endmonth</th>\n",
       "      <th>endday</th>\n",
       "      <th>hemisphere</th>\n",
       "      <th>preferredhemisphere</th>\n",
       "    </tr>\n",
       "  </thead>\n",
       "  <tbody>\n",
       "    <tr>\n",
       "      <th>0</th>\n",
       "      <td>Lyrids</td>\n",
       "      <td>Lyra</td>\n",
       "      <td>4</td>\n",
       "      <td>4</td>\n",
       "      <td>21</td>\n",
       "      <td>4</td>\n",
       "      <td>22</td>\n",
       "      <td>northern</td>\n",
       "      <td>northern</td>\n",
       "    </tr>\n",
       "    <tr>\n",
       "      <th>1</th>\n",
       "      <td>Eta Aquarids</td>\n",
       "      <td>Aquarius</td>\n",
       "      <td>5</td>\n",
       "      <td>4</td>\n",
       "      <td>19</td>\n",
       "      <td>5</td>\n",
       "      <td>28</td>\n",
       "      <td>northern, southern</td>\n",
       "      <td>southern</td>\n",
       "    </tr>\n",
       "    <tr>\n",
       "      <th>2</th>\n",
       "      <td>Orionids</td>\n",
       "      <td>Orion</td>\n",
       "      <td>10</td>\n",
       "      <td>10</td>\n",
       "      <td>2</td>\n",
       "      <td>11</td>\n",
       "      <td>7</td>\n",
       "      <td>northern, southern</td>\n",
       "      <td>northern, southern</td>\n",
       "    </tr>\n",
       "    <tr>\n",
       "      <th>3</th>\n",
       "      <td>Perseids</td>\n",
       "      <td>Perseus</td>\n",
       "      <td>8</td>\n",
       "      <td>7</td>\n",
       "      <td>14</td>\n",
       "      <td>8</td>\n",
       "      <td>24</td>\n",
       "      <td>northern</td>\n",
       "      <td>northern</td>\n",
       "    </tr>\n",
       "    <tr>\n",
       "      <th>4</th>\n",
       "      <td>Leonids</td>\n",
       "      <td>Leo</td>\n",
       "      <td>11</td>\n",
       "      <td>11</td>\n",
       "      <td>6</td>\n",
       "      <td>11</td>\n",
       "      <td>30</td>\n",
       "      <td>northern, southern</td>\n",
       "      <td>northern, southern</td>\n",
       "    </tr>\n",
       "  </tbody>\n",
       "</table>\n",
       "</div>"
      ],
      "text/plain": [
       "           name   radiant  bestmonth  startmonth  startday  endmonth  endday  \\\n",
       "0        Lyrids      Lyra          4           4        21         4      22   \n",
       "1  Eta Aquarids  Aquarius          5           4        19         5      28   \n",
       "2      Orionids     Orion         10          10         2        11       7   \n",
       "3      Perseids   Perseus          8           7        14         8      24   \n",
       "4       Leonids       Leo         11          11         6        11      30   \n",
       "\n",
       "           hemisphere preferredhemisphere  \n",
       "0            northern            northern  \n",
       "1  northern, southern            southern  \n",
       "2  northern, southern  northern, southern  \n",
       "3            northern            northern  \n",
       "4  northern, southern  northern, southern  "
      ]
     },
     "execution_count": 16,
     "metadata": {},
     "output_type": "execute_result"
    }
   ],
   "source": [
    "meteor_showers.head()"
   ]
  },
  {
   "cell_type": "markdown",
   "metadata": {},
   "source": [
    "### meteor_showers,moon_phasesをそれぞれdatetime型に変換し、startdate,enddate,dateカラムを新たに作成して格納してください。"
   ]
  },
  {
   "cell_type": "code",
   "execution_count": 17,
   "metadata": {},
   "outputs": [],
   "source": [
    "meteor_showers['startdate']=pd.to_datetime(2020*10000+meteor_showers['startmonth']*100+meteor_showers['startday'],format='%Y%M%d')\n",
    "meteor_showers['enddate']=pd.to_datetime(2020*10000+meteor_showers['endmonth']*100+meteor_showers['endday'],format='%Y%M%d')\n",
    "moon_phases['date']=pd.to_datetime(2020*10000+moon_phases['month']*100+moon_phases['day'],format='%Y%M%d')"
   ]
  },
  {
   "cell_type": "markdown",
   "metadata": {},
   "source": [
    "### hemisphereの部分を'northern':0,'southern':1,'northern,southern':3にかえてください"
   ]
  },
  {
   "cell_type": "code",
   "execution_count": 18,
   "metadata": {},
   "outputs": [],
   "source": [
    "hemispheres={'northern':0,'southern':1,'northern,southern':3}"
   ]
  },
  {
   "cell_type": "code",
   "execution_count": 19,
   "metadata": {},
   "outputs": [],
   "source": [
    "meteor_showers['hemisphere']=meteor_showers['hemisphere'].map(hemispheres)\n",
    "meteor_showers['preferredhemisphere']=meteor_showers['preferredhemisphere'].map(hemispheres)\n",
    "constellations['hemisphere']=constellations['hemisphere'].map(hemispheres)"
   ]
  },
  {
   "cell_type": "markdown",
   "metadata": {},
   "source": [
    "### 月形の部分を'new moon':0,'first quarter':0.5,'third quarter':0.5,'full moon':1に変換してください"
   ]
  },
  {
   "cell_type": "code",
   "execution_count": 20,
   "metadata": {},
   "outputs": [
    {
     "data": {
      "text/plain": [
       "array([nan, 'first quarter', 'full moon', 'third quarter', 'new moon'],\n",
       "      dtype=object)"
      ]
     },
     "execution_count": 20,
     "metadata": {},
     "output_type": "execute_result"
    }
   ],
   "source": [
    "moon_phases['moonphase'].unique()"
   ]
  },
  {
   "cell_type": "code",
   "execution_count": 21,
   "metadata": {},
   "outputs": [],
   "source": [
    "phase={'new moon':0,'first quarter':0.5,'third quarter':0.5,'full moon':1}\n",
    "moon_phases['percentage']=moon_phases['moonphase'].map(phase)"
   ]
  },
  {
   "cell_type": "markdown",
   "metadata": {},
   "source": []
  },
  {
   "cell_type": "code",
   "execution_count": 22,
   "metadata": {},
   "outputs": [
    {
     "data": {
      "text/html": [
       "<div>\n",
       "<style scoped>\n",
       "    .dataframe tbody tr th:only-of-type {\n",
       "        vertical-align: middle;\n",
       "    }\n",
       "\n",
       "    .dataframe tbody tr th {\n",
       "        vertical-align: top;\n",
       "    }\n",
       "\n",
       "    .dataframe thead th {\n",
       "        text-align: right;\n",
       "    }\n",
       "</style>\n",
       "<table border=\"1\" class=\"dataframe\">\n",
       "  <thead>\n",
       "    <tr style=\"text-align: right;\">\n",
       "      <th></th>\n",
       "      <th>month</th>\n",
       "      <th>day</th>\n",
       "      <th>moonphase</th>\n",
       "      <th>specialevent</th>\n",
       "      <th>date</th>\n",
       "      <th>percentage</th>\n",
       "    </tr>\n",
       "  </thead>\n",
       "  <tbody>\n",
       "    <tr>\n",
       "      <th>0</th>\n",
       "      <td>1</td>\n",
       "      <td>1</td>\n",
       "      <td>NaN</td>\n",
       "      <td>NaN</td>\n",
       "      <td>2020-01-01 00:01:00</td>\n",
       "      <td>NaN</td>\n",
       "    </tr>\n",
       "    <tr>\n",
       "      <th>1</th>\n",
       "      <td>1</td>\n",
       "      <td>2</td>\n",
       "      <td>first quarter</td>\n",
       "      <td>NaN</td>\n",
       "      <td>2020-01-02 00:01:00</td>\n",
       "      <td>0.5</td>\n",
       "    </tr>\n",
       "    <tr>\n",
       "      <th>2</th>\n",
       "      <td>1</td>\n",
       "      <td>3</td>\n",
       "      <td>NaN</td>\n",
       "      <td>NaN</td>\n",
       "      <td>2020-01-03 00:01:00</td>\n",
       "      <td>NaN</td>\n",
       "    </tr>\n",
       "    <tr>\n",
       "      <th>3</th>\n",
       "      <td>1</td>\n",
       "      <td>4</td>\n",
       "      <td>NaN</td>\n",
       "      <td>NaN</td>\n",
       "      <td>2020-01-04 00:01:00</td>\n",
       "      <td>NaN</td>\n",
       "    </tr>\n",
       "    <tr>\n",
       "      <th>4</th>\n",
       "      <td>1</td>\n",
       "      <td>5</td>\n",
       "      <td>NaN</td>\n",
       "      <td>NaN</td>\n",
       "      <td>2020-01-05 00:01:00</td>\n",
       "      <td>NaN</td>\n",
       "    </tr>\n",
       "  </tbody>\n",
       "</table>\n",
       "</div>"
      ],
      "text/plain": [
       "   month  day      moonphase specialevent                date  percentage\n",
       "0      1    1            NaN          NaN 2020-01-01 00:01:00         NaN\n",
       "1      1    2  first quarter          NaN 2020-01-02 00:01:00         0.5\n",
       "2      1    3            NaN          NaN 2020-01-03 00:01:00         NaN\n",
       "3      1    4            NaN          NaN 2020-01-04 00:01:00         NaN\n",
       "4      1    5            NaN          NaN 2020-01-05 00:01:00         NaN"
      ]
     },
     "execution_count": 22,
     "metadata": {},
     "output_type": "execute_result"
    }
   ],
   "source": [
    "moon_phases.head()"
   ]
  },
  {
   "cell_type": "markdown",
   "metadata": {},
   "source": [
    "### meteor_showersのstartmonth、startday、endmonth、endday、hemisphere、moon_phasesのmonth、day、moonphase、specialevent、constellationsのbesttimeを削除してください"
   ]
  },
  {
   "cell_type": "markdown",
   "metadata": {},
   "source": []
  },
  {
   "cell_type": "code",
   "execution_count": 23,
   "metadata": {},
   "outputs": [],
   "source": [
    "meteor_showers=meteor_showers.drop(['startmonth','startday','endmonth','endday','hemisphere'],axis=1)\n",
    "moon_phases=moon_phases.drop(['month','moonphase','specialevent'],axis=1)\n",
    "constellations=constellations.drop(['besttime'],axis=1)"
   ]
  },
  {
   "cell_type": "code",
   "execution_count": null,
   "metadata": {},
   "outputs": [],
   "source": []
  },
  {
   "cell_type": "markdown",
   "metadata": {},
   "source": [
    "### moon_phasesの各行のindexと中身を抽出し、percentageがnullだったら過去一番最近の月相をpercentageに代入し、そうでなかったら過去最近一番の月相として保存してください(もう一回)"
   ]
  },
  {
   "cell_type": "code",
   "execution_count": 24,
   "metadata": {},
   "outputs": [],
   "source": [
    "lastmoon=0\n",
    "for idx,value in moon_phases.iterrows():\n",
    "    if pd.isnull(value['percentage']):\n",
    "        moon_phases.at[idx,'percentage']=lastmoon\n",
    "    else:\n",
    "        lastmoon=value['percentage']"
   ]
  },
  {
   "cell_type": "code",
   "execution_count": 25,
   "metadata": {},
   "outputs": [
    {
     "data": {
      "text/html": [
       "<div>\n",
       "<style scoped>\n",
       "    .dataframe tbody tr th:only-of-type {\n",
       "        vertical-align: middle;\n",
       "    }\n",
       "\n",
       "    .dataframe tbody tr th {\n",
       "        vertical-align: top;\n",
       "    }\n",
       "\n",
       "    .dataframe thead th {\n",
       "        text-align: right;\n",
       "    }\n",
       "</style>\n",
       "<table border=\"1\" class=\"dataframe\">\n",
       "  <thead>\n",
       "    <tr style=\"text-align: right;\">\n",
       "      <th></th>\n",
       "      <th>day</th>\n",
       "      <th>date</th>\n",
       "      <th>percentage</th>\n",
       "    </tr>\n",
       "  </thead>\n",
       "  <tbody>\n",
       "    <tr>\n",
       "      <th>0</th>\n",
       "      <td>1</td>\n",
       "      <td>2020-01-01 00:01:00</td>\n",
       "      <td>0.0</td>\n",
       "    </tr>\n",
       "    <tr>\n",
       "      <th>1</th>\n",
       "      <td>2</td>\n",
       "      <td>2020-01-02 00:01:00</td>\n",
       "      <td>0.5</td>\n",
       "    </tr>\n",
       "    <tr>\n",
       "      <th>2</th>\n",
       "      <td>3</td>\n",
       "      <td>2020-01-03 00:01:00</td>\n",
       "      <td>0.5</td>\n",
       "    </tr>\n",
       "    <tr>\n",
       "      <th>3</th>\n",
       "      <td>4</td>\n",
       "      <td>2020-01-04 00:01:00</td>\n",
       "      <td>0.5</td>\n",
       "    </tr>\n",
       "    <tr>\n",
       "      <th>4</th>\n",
       "      <td>5</td>\n",
       "      <td>2020-01-05 00:01:00</td>\n",
       "      <td>0.5</td>\n",
       "    </tr>\n",
       "    <tr>\n",
       "      <th>5</th>\n",
       "      <td>6</td>\n",
       "      <td>2020-01-06 00:01:00</td>\n",
       "      <td>0.5</td>\n",
       "    </tr>\n",
       "    <tr>\n",
       "      <th>6</th>\n",
       "      <td>7</td>\n",
       "      <td>2020-01-07 00:01:00</td>\n",
       "      <td>0.5</td>\n",
       "    </tr>\n",
       "    <tr>\n",
       "      <th>7</th>\n",
       "      <td>8</td>\n",
       "      <td>2020-01-08 00:01:00</td>\n",
       "      <td>0.5</td>\n",
       "    </tr>\n",
       "    <tr>\n",
       "      <th>8</th>\n",
       "      <td>9</td>\n",
       "      <td>2020-01-09 00:01:00</td>\n",
       "      <td>0.5</td>\n",
       "    </tr>\n",
       "    <tr>\n",
       "      <th>9</th>\n",
       "      <td>10</td>\n",
       "      <td>2020-01-10 00:01:00</td>\n",
       "      <td>1.0</td>\n",
       "    </tr>\n",
       "    <tr>\n",
       "      <th>10</th>\n",
       "      <td>11</td>\n",
       "      <td>2020-01-11 00:01:00</td>\n",
       "      <td>1.0</td>\n",
       "    </tr>\n",
       "    <tr>\n",
       "      <th>11</th>\n",
       "      <td>12</td>\n",
       "      <td>2020-01-12 00:01:00</td>\n",
       "      <td>1.0</td>\n",
       "    </tr>\n",
       "    <tr>\n",
       "      <th>12</th>\n",
       "      <td>13</td>\n",
       "      <td>2020-01-13 00:01:00</td>\n",
       "      <td>1.0</td>\n",
       "    </tr>\n",
       "    <tr>\n",
       "      <th>13</th>\n",
       "      <td>14</td>\n",
       "      <td>2020-01-14 00:01:00</td>\n",
       "      <td>1.0</td>\n",
       "    </tr>\n",
       "    <tr>\n",
       "      <th>14</th>\n",
       "      <td>15</td>\n",
       "      <td>2020-01-15 00:01:00</td>\n",
       "      <td>1.0</td>\n",
       "    </tr>\n",
       "    <tr>\n",
       "      <th>15</th>\n",
       "      <td>16</td>\n",
       "      <td>2020-01-16 00:01:00</td>\n",
       "      <td>1.0</td>\n",
       "    </tr>\n",
       "    <tr>\n",
       "      <th>16</th>\n",
       "      <td>17</td>\n",
       "      <td>2020-01-17 00:01:00</td>\n",
       "      <td>0.5</td>\n",
       "    </tr>\n",
       "    <tr>\n",
       "      <th>17</th>\n",
       "      <td>18</td>\n",
       "      <td>2020-01-18 00:01:00</td>\n",
       "      <td>0.5</td>\n",
       "    </tr>\n",
       "    <tr>\n",
       "      <th>18</th>\n",
       "      <td>19</td>\n",
       "      <td>2020-01-19 00:01:00</td>\n",
       "      <td>0.5</td>\n",
       "    </tr>\n",
       "    <tr>\n",
       "      <th>19</th>\n",
       "      <td>20</td>\n",
       "      <td>2020-01-20 00:01:00</td>\n",
       "      <td>0.5</td>\n",
       "    </tr>\n",
       "    <tr>\n",
       "      <th>20</th>\n",
       "      <td>21</td>\n",
       "      <td>2020-01-21 00:01:00</td>\n",
       "      <td>0.5</td>\n",
       "    </tr>\n",
       "    <tr>\n",
       "      <th>21</th>\n",
       "      <td>22</td>\n",
       "      <td>2020-01-22 00:01:00</td>\n",
       "      <td>0.5</td>\n",
       "    </tr>\n",
       "    <tr>\n",
       "      <th>22</th>\n",
       "      <td>23</td>\n",
       "      <td>2020-01-23 00:01:00</td>\n",
       "      <td>0.5</td>\n",
       "    </tr>\n",
       "    <tr>\n",
       "      <th>23</th>\n",
       "      <td>24</td>\n",
       "      <td>2020-01-24 00:01:00</td>\n",
       "      <td>0.0</td>\n",
       "    </tr>\n",
       "    <tr>\n",
       "      <th>24</th>\n",
       "      <td>25</td>\n",
       "      <td>2020-01-25 00:01:00</td>\n",
       "      <td>0.0</td>\n",
       "    </tr>\n",
       "    <tr>\n",
       "      <th>25</th>\n",
       "      <td>26</td>\n",
       "      <td>2020-01-26 00:01:00</td>\n",
       "      <td>0.0</td>\n",
       "    </tr>\n",
       "    <tr>\n",
       "      <th>26</th>\n",
       "      <td>27</td>\n",
       "      <td>2020-01-27 00:01:00</td>\n",
       "      <td>0.0</td>\n",
       "    </tr>\n",
       "    <tr>\n",
       "      <th>27</th>\n",
       "      <td>28</td>\n",
       "      <td>2020-01-28 00:01:00</td>\n",
       "      <td>0.0</td>\n",
       "    </tr>\n",
       "    <tr>\n",
       "      <th>28</th>\n",
       "      <td>29</td>\n",
       "      <td>2020-01-29 00:01:00</td>\n",
       "      <td>0.0</td>\n",
       "    </tr>\n",
       "    <tr>\n",
       "      <th>29</th>\n",
       "      <td>30</td>\n",
       "      <td>2020-01-30 00:01:00</td>\n",
       "      <td>0.0</td>\n",
       "    </tr>\n",
       "  </tbody>\n",
       "</table>\n",
       "</div>"
      ],
      "text/plain": [
       "    day                date  percentage\n",
       "0     1 2020-01-01 00:01:00         0.0\n",
       "1     2 2020-01-02 00:01:00         0.5\n",
       "2     3 2020-01-03 00:01:00         0.5\n",
       "3     4 2020-01-04 00:01:00         0.5\n",
       "4     5 2020-01-05 00:01:00         0.5\n",
       "5     6 2020-01-06 00:01:00         0.5\n",
       "6     7 2020-01-07 00:01:00         0.5\n",
       "7     8 2020-01-08 00:01:00         0.5\n",
       "8     9 2020-01-09 00:01:00         0.5\n",
       "9    10 2020-01-10 00:01:00         1.0\n",
       "10   11 2020-01-11 00:01:00         1.0\n",
       "11   12 2020-01-12 00:01:00         1.0\n",
       "12   13 2020-01-13 00:01:00         1.0\n",
       "13   14 2020-01-14 00:01:00         1.0\n",
       "14   15 2020-01-15 00:01:00         1.0\n",
       "15   16 2020-01-16 00:01:00         1.0\n",
       "16   17 2020-01-17 00:01:00         0.5\n",
       "17   18 2020-01-18 00:01:00         0.5\n",
       "18   19 2020-01-19 00:01:00         0.5\n",
       "19   20 2020-01-20 00:01:00         0.5\n",
       "20   21 2020-01-21 00:01:00         0.5\n",
       "21   22 2020-01-22 00:01:00         0.5\n",
       "22   23 2020-01-23 00:01:00         0.5\n",
       "23   24 2020-01-24 00:01:00         0.0\n",
       "24   25 2020-01-25 00:01:00         0.0\n",
       "25   26 2020-01-26 00:01:00         0.0\n",
       "26   27 2020-01-27 00:01:00         0.0\n",
       "27   28 2020-01-28 00:01:00         0.0\n",
       "28   29 2020-01-29 00:01:00         0.0\n",
       "29   30 2020-01-30 00:01:00         0.0"
      ]
     },
     "execution_count": 25,
     "metadata": {},
     "output_type": "execute_result"
    }
   ],
   "source": [
    "moon_phases.head(30)"
   ]
  },
  {
   "cell_type": "code",
   "execution_count": 26,
   "metadata": {},
   "outputs": [
    {
     "name": "stdout",
     "output_type": "stream",
     "text": [
      "<class 'pandas.core.frame.DataFrame'>\n",
      "RangeIndex: 366 entries, 0 to 365\n",
      "Data columns (total 3 columns):\n",
      " #   Column      Non-Null Count  Dtype         \n",
      "---  ------      --------------  -----         \n",
      " 0   day         366 non-null    int64         \n",
      " 1   date        366 non-null    datetime64[ns]\n",
      " 2   percentage  366 non-null    float64       \n",
      "dtypes: datetime64[ns](1), float64(1), int64(1)\n",
      "memory usage: 8.7 KB\n"
     ]
    }
   ],
   "source": [
    "moon_phases.info()"
   ]
  },
  {
   "cell_type": "code",
   "execution_count": 27,
   "metadata": {},
   "outputs": [
    {
     "data": {
      "text/html": [
       "<div>\n",
       "<style scoped>\n",
       "    .dataframe tbody tr th:only-of-type {\n",
       "        vertical-align: middle;\n",
       "    }\n",
       "\n",
       "    .dataframe tbody tr th {\n",
       "        vertical-align: top;\n",
       "    }\n",
       "\n",
       "    .dataframe thead th {\n",
       "        text-align: right;\n",
       "    }\n",
       "</style>\n",
       "<table border=\"1\" class=\"dataframe\">\n",
       "  <thead>\n",
       "    <tr style=\"text-align: right;\">\n",
       "      <th></th>\n",
       "      <th>city</th>\n",
       "      <th>latitude</th>\n",
       "      <th>country</th>\n",
       "    </tr>\n",
       "  </thead>\n",
       "  <tbody>\n",
       "    <tr>\n",
       "      <th>0</th>\n",
       "      <td>Abu Dhabi</td>\n",
       "      <td>24.47</td>\n",
       "      <td>United Arab Emirates</td>\n",
       "    </tr>\n",
       "    <tr>\n",
       "      <th>1</th>\n",
       "      <td>Abuja</td>\n",
       "      <td>9.07</td>\n",
       "      <td>Nigeria</td>\n",
       "    </tr>\n",
       "    <tr>\n",
       "      <th>2</th>\n",
       "      <td>Accra</td>\n",
       "      <td>5.55</td>\n",
       "      <td>Ghana</td>\n",
       "    </tr>\n",
       "    <tr>\n",
       "      <th>3</th>\n",
       "      <td>Adamstown</td>\n",
       "      <td>-25.07</td>\n",
       "      <td>Pitcairn Islands</td>\n",
       "    </tr>\n",
       "    <tr>\n",
       "      <th>4</th>\n",
       "      <td>Addis Ababa</td>\n",
       "      <td>9.02</td>\n",
       "      <td>Ethiopia</td>\n",
       "    </tr>\n",
       "  </tbody>\n",
       "</table>\n",
       "</div>"
      ],
      "text/plain": [
       "          city  latitude               country\n",
       "0    Abu Dhabi     24.47  United Arab Emirates\n",
       "1        Abuja      9.07               Nigeria\n",
       "2        Accra      5.55                 Ghana\n",
       "3    Adamstown    -25.07      Pitcairn Islands\n",
       "4  Addis Ababa      9.02              Ethiopia"
      ]
     },
     "execution_count": 27,
     "metadata": {},
     "output_type": "execute_result"
    }
   ],
   "source": [
    "cities.head()"
   ]
  },
  {
   "cell_type": "markdown",
   "metadata": {},
   "source": [
    "### 都市の緯度を特定し、その都市の緯度を取得する関数を作成する"
   ]
  },
  {
   "cell_type": "code",
   "execution_count": 28,
   "metadata": {},
   "outputs": [],
   "source": [
    "def predict_best_meteor_shower_viewing(city):\n",
    "    latitude=cities.loc[(cities['city']==city),'latitude'].iloc[0]\n",
    "    return latitude"
   ]
  },
  {
   "cell_type": "code",
   "execution_count": 29,
   "metadata": {},
   "outputs": [
    {
     "data": {
      "text/plain": [
       "24.47"
      ]
     },
     "execution_count": 29,
     "metadata": {},
     "output_type": "execute_result"
    }
   ],
   "source": [
    "cities.loc[(cities['city']=='Abu Dhabi'),'latitude'].iloc[0]"
   ]
  },
  {
   "cell_type": "code",
   "execution_count": 30,
   "metadata": {},
   "outputs": [
    {
     "data": {
      "text/plain": [
       "24.47"
      ]
     },
     "execution_count": 30,
     "metadata": {},
     "output_type": "execute_result"
    }
   ],
   "source": [
    "predict_best_meteor_shower_viewing('Abu Dhabi')"
   ]
  },
  {
   "cell_type": "markdown",
   "metadata": {},
   "source": [
    "### その地域の緯度が星座が見える緯度の最小値と最大値の範囲内にその地域の緯度が収まると見える最座のリストを作成してください。また、対象の都市が入力されなかったときのエラー文の出力も行ってください。"
   ]
  },
  {
   "cell_type": "code",
   "execution_count": 31,
   "metadata": {},
   "outputs": [],
   "source": [
    "def predict_best_meteor_shower_viewing(city):\n",
    "    message=''\n",
    "    if city not in cities.values:\n",
    "        message = \"Unfortunately, \" + city + \" isn't available for a prediction at this time.\"\n",
    "        return message\n",
    "    latitude=cities.loc[(cities['city']==city),'latitude'].iloc[0]\n",
    "    constellation_list=constellations.loc[(constellations['latitudestart']>latitude) & (constellations['latitudeend']<latitude),'constellation'].tolist()\n",
    "    if constellation_list==None:\n",
    "        message=\"Unfortunately we can't find any constellation\"\n",
    "        return message\n",
    "    else:\n",
    "        \n",
    "        message=\"We can see\"+[print(constellation) for constellation in constellation_list]+\"in the sky\"\n",
    "        return message\n",
    "        "
   ]
  },
  {
   "cell_type": "code",
   "execution_count": 32,
   "metadata": {},
   "outputs": [
    {
     "name": "stdout",
     "output_type": "stream",
     "text": [
      "Lyra\n",
      "Aquarius\n",
      "Orion\n",
      "Perseus\n"
     ]
    },
    {
     "ename": "TypeError",
     "evalue": "can only concatenate str (not \"list\") to str",
     "output_type": "error",
     "traceback": [
      "\u001b[1;31m---------------------------------------------------------------------------\u001b[0m",
      "\u001b[1;31mTypeError\u001b[0m                                 Traceback (most recent call last)",
      "\u001b[1;32m<ipython-input-32-e8e4d2283bf0>\u001b[0m in \u001b[0;36m<module>\u001b[1;34m\u001b[0m\n\u001b[1;32m----> 1\u001b[1;33m \u001b[0mpredict_best_meteor_shower_viewing\u001b[0m\u001b[1;33m(\u001b[0m\u001b[1;34m'Abu Dhabi'\u001b[0m\u001b[1;33m)\u001b[0m\u001b[1;33m\u001b[0m\u001b[1;33m\u001b[0m\u001b[0m\n\u001b[0m",
      "\u001b[1;32m<ipython-input-31-029d85865d31>\u001b[0m in \u001b[0;36mpredict_best_meteor_shower_viewing\u001b[1;34m(city)\u001b[0m\n\u001b[0;32m     11\u001b[0m     \u001b[1;32melse\u001b[0m\u001b[1;33m:\u001b[0m\u001b[1;33m\u001b[0m\u001b[1;33m\u001b[0m\u001b[0m\n\u001b[0;32m     12\u001b[0m \u001b[1;33m\u001b[0m\u001b[0m\n\u001b[1;32m---> 13\u001b[1;33m         \u001b[0mmessage\u001b[0m\u001b[1;33m=\u001b[0m\u001b[1;34m\"We can see\"\u001b[0m\u001b[1;33m+\u001b[0m\u001b[1;33m[\u001b[0m\u001b[0mprint\u001b[0m\u001b[1;33m(\u001b[0m\u001b[0mconstellation\u001b[0m\u001b[1;33m)\u001b[0m \u001b[1;32mfor\u001b[0m \u001b[0mconstellation\u001b[0m \u001b[1;32min\u001b[0m \u001b[0mconstellation_list\u001b[0m\u001b[1;33m]\u001b[0m\u001b[1;33m+\u001b[0m\u001b[1;34m\"in the sky\"\u001b[0m\u001b[1;33m\u001b[0m\u001b[1;33m\u001b[0m\u001b[0m\n\u001b[0m\u001b[0;32m     14\u001b[0m         \u001b[1;32mreturn\u001b[0m \u001b[0mmessage\u001b[0m\u001b[1;33m\u001b[0m\u001b[1;33m\u001b[0m\u001b[0m\n\u001b[0;32m     15\u001b[0m \u001b[1;33m\u001b[0m\u001b[0m\n",
      "\u001b[1;31mTypeError\u001b[0m: can only concatenate str (not \"list\") to str"
     ]
    }
   ],
   "source": [
    "predict_best_meteor_shower_viewing('Abu Dhabi')"
   ]
  },
  {
   "cell_type": "code",
   "execution_count": 33,
   "metadata": {},
   "outputs": [
    {
     "data": {
      "text/plain": [
       "0                    Abu Dhabi\n",
       "1                        Abuja\n",
       "2                        Accra\n",
       "3                    Adamstown\n",
       "4                  Addis Ababa\n",
       "                ...           \n",
       "251    Abidjan(former capital)\n",
       "252                    Yaounde\n",
       "253            Yaren(de facto)\n",
       "254                    Yerevan\n",
       "255                     Zagreb\n",
       "Name: city, Length: 256, dtype: object"
      ]
     },
     "execution_count": 33,
     "metadata": {},
     "output_type": "execute_result"
    }
   ],
   "source": [
    "cities['city']"
   ]
  },
  {
   "cell_type": "code",
   "execution_count": 34,
   "metadata": {},
   "outputs": [
    {
     "data": {
      "text/html": [
       "<div>\n",
       "<style scoped>\n",
       "    .dataframe tbody tr th:only-of-type {\n",
       "        vertical-align: middle;\n",
       "    }\n",
       "\n",
       "    .dataframe tbody tr th {\n",
       "        vertical-align: top;\n",
       "    }\n",
       "\n",
       "    .dataframe thead th {\n",
       "        text-align: right;\n",
       "    }\n",
       "</style>\n",
       "<table border=\"1\" class=\"dataframe\">\n",
       "  <thead>\n",
       "    <tr style=\"text-align: right;\">\n",
       "      <th></th>\n",
       "      <th>constellation</th>\n",
       "      <th>bestmonth</th>\n",
       "      <th>latitudestart</th>\n",
       "      <th>latitudeend</th>\n",
       "      <th>hemisphere</th>\n",
       "    </tr>\n",
       "  </thead>\n",
       "  <tbody>\n",
       "    <tr>\n",
       "      <th>0</th>\n",
       "      <td>Lyra</td>\n",
       "      <td>8</td>\n",
       "      <td>90</td>\n",
       "      <td>-40</td>\n",
       "      <td>0</td>\n",
       "    </tr>\n",
       "    <tr>\n",
       "      <th>1</th>\n",
       "      <td>Aquarius</td>\n",
       "      <td>10</td>\n",
       "      <td>65</td>\n",
       "      <td>-90</td>\n",
       "      <td>1</td>\n",
       "    </tr>\n",
       "    <tr>\n",
       "      <th>2</th>\n",
       "      <td>Orion</td>\n",
       "      <td>1</td>\n",
       "      <td>85</td>\n",
       "      <td>-75</td>\n",
       "      <td>0</td>\n",
       "    </tr>\n",
       "    <tr>\n",
       "      <th>3</th>\n",
       "      <td>Perseus</td>\n",
       "      <td>12</td>\n",
       "      <td>90</td>\n",
       "      <td>-35</td>\n",
       "      <td>0</td>\n",
       "    </tr>\n",
       "    <tr>\n",
       "      <th>4</th>\n",
       "      <td>Leo</td>\n",
       "      <td>4</td>\n",
       "      <td>90</td>\n",
       "      <td>65</td>\n",
       "      <td>0</td>\n",
       "    </tr>\n",
       "  </tbody>\n",
       "</table>\n",
       "</div>"
      ],
      "text/plain": [
       "  constellation  bestmonth  latitudestart  latitudeend  hemisphere\n",
       "0          Lyra          8             90          -40           0\n",
       "1      Aquarius         10             65          -90           1\n",
       "2         Orion          1             85          -75           0\n",
       "3       Perseus         12             90          -35           0\n",
       "4           Leo          4             90           65           0"
      ]
     },
     "execution_count": 34,
     "metadata": {},
     "output_type": "execute_result"
    }
   ],
   "source": [
    "constellations.head()"
   ]
  },
  {
   "cell_type": "code",
   "execution_count": 35,
   "metadata": {},
   "outputs": [
    {
     "data": {
      "text/plain": [
       "['Lyra']"
      ]
     },
     "execution_count": 35,
     "metadata": {},
     "output_type": "execute_result"
    }
   ],
   "source": [
    "constellations.loc[(constellations['latitudestart']>=90) & (constellations['latitudeend']<=-40),'constellation'].tolist()"
   ]
  },
  {
   "cell_type": "code",
   "execution_count": 36,
   "metadata": {},
   "outputs": [],
   "source": [
    "def predict_best_meteor_shower_viewing(city):\n",
    "    message=''\n",
    "    if city not in cities.values:\n",
    "        message = \"Unfortunately, \" + city + \" isn't available for a prediction at this time.\"\n",
    "        return message\n",
    "    latitude=cities.loc[(cities['city']==city),'latitude'].iloc[0]\n",
    "    constellation_list=constellations.loc[(constellations['latitudestart']>latitude) & (constellations['latitudeend']<latitude),'constellation'].tolist()\n",
    "    if constellation_list==None:\n",
    "        message=\"Unfortunately we can't find any constellation\"\n",
    "        return message\n",
    "    for constellation in constellation_list:\n",
    "        meteor_shower=meteor_showers.loc[meteor_showers['radiant']==constellation,'name'].iloc[0]\n",
    "        meteor_shower_startdate=meteor_showers.loc[meteor_showers['radiant']==constellation,'startdate'].iloc[0]\n",
    "        meteor_shower_enddate=meteor_showers.loc[meteor_showers['radiant']==constellation,'enddate'].iloc[0]\n",
    "        moon_phases_list=moon_phases.loc[(moon_phases['date']>=meteor_shower_startdate) & (moon_phases['date']<=meteor_shower_enddate)]\n",
    "        best_moon_date=moon_phases_list.loc[moon_phases_list['percentage'].idxmin()]['date']\n",
    "        message=\"If you see towards\"+' '+constellation+' '+\"You can see\"+' '+meteor_shower+' '+\"at\"+' '+best_moon_date.to_pydatetime().strftime('%Y/%M/%d/')\n",
    "    return message   "
   ]
  },
  {
   "cell_type": "code",
   "execution_count": 37,
   "metadata": {},
   "outputs": [
    {
     "data": {
      "text/plain": [
       "'If you see towards Perseus You can see Perseids at 2020/01/24/'"
      ]
     },
     "execution_count": 37,
     "metadata": {},
     "output_type": "execute_result"
    }
   ],
   "source": [
    "predict_best_meteor_shower_viewing('Abu Dhabi')"
   ]
  },
  {
   "cell_type": "code",
   "execution_count": 38,
   "metadata": {},
   "outputs": [
    {
     "data": {
      "text/plain": [
       "Series([], Name: name, dtype: object)"
      ]
     },
     "execution_count": 38,
     "metadata": {},
     "output_type": "execute_result"
    }
   ],
   "source": [
    "meteor_shower=meteor_showers.loc[meteor_showers['radiant']=='Lyrid','name']\n",
    "meteor_shower"
   ]
  },
  {
   "cell_type": "code",
   "execution_count": 39,
   "metadata": {},
   "outputs": [
    {
     "name": "stdout",
     "output_type": "stream",
     "text": [
      "2020-01-22 00:04:00\n",
      "2020-01-24 00:01:00\n",
      "2020-01-03 00:01:00\n",
      "2020-01-24 00:01:00\n",
      "2020-01-24 00:01:00\n"
     ]
    }
   ],
   "source": [
    "constellation_list=constellations['constellation']\n",
    "for constellation in constellation_list:\n",
    "        meteor_shower=meteor_showers.loc[meteor_showers['radiant']==constellation,'name'].iloc[0]\n",
    "        meteor_shower_startdate=meteor_showers.loc[meteor_showers['radiant']==constellation,'startdate'].iloc[0]\n",
    "        meteor_shower_enddate=meteor_showers.loc[meteor_showers['radiant']==constellation,'enddate'].iloc[0]\n",
    "        moon_phases_list=moon_phases.loc[(moon_phases['date']>=meteor_shower_startdate) & (moon_phases['date']<=meteor_shower_enddate)]\n",
    "        best_moon_date=moon_phases_list.loc[moon_phases_list['percentage'].idxmin()]['date']\n",
    "        print(best_moon_date)"
   ]
  },
  {
   "cell_type": "code",
   "execution_count": 40,
   "metadata": {},
   "outputs": [
    {
     "data": {
      "text/html": [
       "<div>\n",
       "<style scoped>\n",
       "    .dataframe tbody tr th:only-of-type {\n",
       "        vertical-align: middle;\n",
       "    }\n",
       "\n",
       "    .dataframe tbody tr th {\n",
       "        vertical-align: top;\n",
       "    }\n",
       "\n",
       "    .dataframe thead th {\n",
       "        text-align: right;\n",
       "    }\n",
       "</style>\n",
       "<table border=\"1\" class=\"dataframe\">\n",
       "  <thead>\n",
       "    <tr style=\"text-align: right;\">\n",
       "      <th></th>\n",
       "      <th>name</th>\n",
       "      <th>radiant</th>\n",
       "      <th>bestmonth</th>\n",
       "      <th>preferredhemisphere</th>\n",
       "      <th>startdate</th>\n",
       "      <th>enddate</th>\n",
       "    </tr>\n",
       "  </thead>\n",
       "  <tbody>\n",
       "    <tr>\n",
       "      <th>0</th>\n",
       "      <td>Lyrids</td>\n",
       "      <td>Lyra</td>\n",
       "      <td>4</td>\n",
       "      <td>0.0</td>\n",
       "      <td>2020-01-21 00:04:00</td>\n",
       "      <td>2020-01-22 00:04:00</td>\n",
       "    </tr>\n",
       "    <tr>\n",
       "      <th>1</th>\n",
       "      <td>Eta Aquarids</td>\n",
       "      <td>Aquarius</td>\n",
       "      <td>5</td>\n",
       "      <td>1.0</td>\n",
       "      <td>2020-01-19 00:04:00</td>\n",
       "      <td>2020-01-28 00:05:00</td>\n",
       "    </tr>\n",
       "    <tr>\n",
       "      <th>2</th>\n",
       "      <td>Orionids</td>\n",
       "      <td>Orion</td>\n",
       "      <td>10</td>\n",
       "      <td>NaN</td>\n",
       "      <td>2020-01-02 00:10:00</td>\n",
       "      <td>2020-01-07 00:11:00</td>\n",
       "    </tr>\n",
       "    <tr>\n",
       "      <th>3</th>\n",
       "      <td>Perseids</td>\n",
       "      <td>Perseus</td>\n",
       "      <td>8</td>\n",
       "      <td>0.0</td>\n",
       "      <td>2020-01-14 00:07:00</td>\n",
       "      <td>2020-01-24 00:08:00</td>\n",
       "    </tr>\n",
       "    <tr>\n",
       "      <th>4</th>\n",
       "      <td>Leonids</td>\n",
       "      <td>Leo</td>\n",
       "      <td>11</td>\n",
       "      <td>NaN</td>\n",
       "      <td>2020-01-06 00:11:00</td>\n",
       "      <td>2020-01-30 00:11:00</td>\n",
       "    </tr>\n",
       "  </tbody>\n",
       "</table>\n",
       "</div>"
      ],
      "text/plain": [
       "           name   radiant  bestmonth  preferredhemisphere           startdate  \\\n",
       "0        Lyrids      Lyra          4                  0.0 2020-01-21 00:04:00   \n",
       "1  Eta Aquarids  Aquarius          5                  1.0 2020-01-19 00:04:00   \n",
       "2      Orionids     Orion         10                  NaN 2020-01-02 00:10:00   \n",
       "3      Perseids   Perseus          8                  0.0 2020-01-14 00:07:00   \n",
       "4       Leonids       Leo         11                  NaN 2020-01-06 00:11:00   \n",
       "\n",
       "              enddate  \n",
       "0 2020-01-22 00:04:00  \n",
       "1 2020-01-28 00:05:00  \n",
       "2 2020-01-07 00:11:00  \n",
       "3 2020-01-24 00:08:00  \n",
       "4 2020-01-30 00:11:00  "
      ]
     },
     "execution_count": 40,
     "metadata": {},
     "output_type": "execute_result"
    }
   ],
   "source": [
    "meteor_showers.head()"
   ]
  },
  {
   "cell_type": "code",
   "execution_count": 41,
   "metadata": {},
   "outputs": [
    {
     "data": {
      "text/html": [
       "<div>\n",
       "<style scoped>\n",
       "    .dataframe tbody tr th:only-of-type {\n",
       "        vertical-align: middle;\n",
       "    }\n",
       "\n",
       "    .dataframe tbody tr th {\n",
       "        vertical-align: top;\n",
       "    }\n",
       "\n",
       "    .dataframe thead th {\n",
       "        text-align: right;\n",
       "    }\n",
       "</style>\n",
       "<table border=\"1\" class=\"dataframe\">\n",
       "  <thead>\n",
       "    <tr style=\"text-align: right;\">\n",
       "      <th></th>\n",
       "      <th>day</th>\n",
       "      <th>date</th>\n",
       "      <th>percentage</th>\n",
       "    </tr>\n",
       "  </thead>\n",
       "  <tbody>\n",
       "    <tr>\n",
       "      <th>0</th>\n",
       "      <td>1</td>\n",
       "      <td>2020-01-01 00:01:00</td>\n",
       "      <td>0.0</td>\n",
       "    </tr>\n",
       "    <tr>\n",
       "      <th>1</th>\n",
       "      <td>2</td>\n",
       "      <td>2020-01-02 00:01:00</td>\n",
       "      <td>0.5</td>\n",
       "    </tr>\n",
       "    <tr>\n",
       "      <th>2</th>\n",
       "      <td>3</td>\n",
       "      <td>2020-01-03 00:01:00</td>\n",
       "      <td>0.5</td>\n",
       "    </tr>\n",
       "    <tr>\n",
       "      <th>3</th>\n",
       "      <td>4</td>\n",
       "      <td>2020-01-04 00:01:00</td>\n",
       "      <td>0.5</td>\n",
       "    </tr>\n",
       "    <tr>\n",
       "      <th>4</th>\n",
       "      <td>5</td>\n",
       "      <td>2020-01-05 00:01:00</td>\n",
       "      <td>0.5</td>\n",
       "    </tr>\n",
       "    <tr>\n",
       "      <th>...</th>\n",
       "      <td>...</td>\n",
       "      <td>...</td>\n",
       "      <td>...</td>\n",
       "    </tr>\n",
       "    <tr>\n",
       "      <th>361</th>\n",
       "      <td>27</td>\n",
       "      <td>2020-01-27 00:12:00</td>\n",
       "      <td>0.5</td>\n",
       "    </tr>\n",
       "    <tr>\n",
       "      <th>362</th>\n",
       "      <td>28</td>\n",
       "      <td>2020-01-28 00:12:00</td>\n",
       "      <td>0.5</td>\n",
       "    </tr>\n",
       "    <tr>\n",
       "      <th>363</th>\n",
       "      <td>29</td>\n",
       "      <td>2020-01-29 00:12:00</td>\n",
       "      <td>1.0</td>\n",
       "    </tr>\n",
       "    <tr>\n",
       "      <th>364</th>\n",
       "      <td>30</td>\n",
       "      <td>2020-01-30 00:12:00</td>\n",
       "      <td>1.0</td>\n",
       "    </tr>\n",
       "    <tr>\n",
       "      <th>365</th>\n",
       "      <td>31</td>\n",
       "      <td>2020-01-31 00:12:00</td>\n",
       "      <td>1.0</td>\n",
       "    </tr>\n",
       "  </tbody>\n",
       "</table>\n",
       "<p>366 rows × 3 columns</p>\n",
       "</div>"
      ],
      "text/plain": [
       "     day                date  percentage\n",
       "0      1 2020-01-01 00:01:00         0.0\n",
       "1      2 2020-01-02 00:01:00         0.5\n",
       "2      3 2020-01-03 00:01:00         0.5\n",
       "3      4 2020-01-04 00:01:00         0.5\n",
       "4      5 2020-01-05 00:01:00         0.5\n",
       "..   ...                 ...         ...\n",
       "361   27 2020-01-27 00:12:00         0.5\n",
       "362   28 2020-01-28 00:12:00         0.5\n",
       "363   29 2020-01-29 00:12:00         1.0\n",
       "364   30 2020-01-30 00:12:00         1.0\n",
       "365   31 2020-01-31 00:12:00         1.0\n",
       "\n",
       "[366 rows x 3 columns]"
      ]
     },
     "execution_count": 41,
     "metadata": {},
     "output_type": "execute_result"
    }
   ],
   "source": [
    "moon_phases"
   ]
  },
  {
   "cell_type": "code",
   "execution_count": null,
   "metadata": {},
   "outputs": [],
   "source": []
  },
  {
   "cell_type": "markdown",
   "metadata": {},
   "source": [
    "### ①都市を入れるとその年の緯度を取得する。\n",
    "### ②その年の緯度と経度の情報をもとに見える星座のリストを作成する\n",
    "### ③入力した都市がその範囲になかった場合のエラー文を作成する\n",
    "### ④ 星座のリストと流星群データに星座のリストを照合しその時の流星群の名前を抽出する\n",
    "### ⑤ 同様に見え始めた時間と見え終えた時間の情報を取得する\n",
    "### ⑥ その流星群が見えている時間の間のmoon_phaseの情報を取得する\n",
    "### ⑦ moon_phaseの情報の中で最も明るさが小さい日時の情報を取得する\n",
    "### ⑧ これらの情報をもとに見える流星群の名前、どの星座が輝く方向を見るべきか、どの時刻が最適かを文章で出力する"
   ]
  },
  {
   "cell_type": "code",
   "execution_count": 50,
   "metadata": {},
   "outputs": [],
   "source": [
    "def predict_best_meteor_shower_viewing(city):\n",
    "    message=\"\"\n",
    "    if city not in cities['city'].values:\n",
    "        message=\"Sorry, There is not\"+city+\"in this list\"\n",
    "        return message\n",
    "    latitude=cities.loc[(cities['city']==city),'latitude'].iloc[0]\n",
    "    constellation_list=constellations.loc[(constellations['latitudestart']>=90) & (constellations['latitudeend']<=-40),'constellation'].tolist()\n",
    "    if constellation_list is None:\n",
    "        message=\"Sorry, You can't see meteor shower based on constellations information\"\n",
    "        return message\n",
    "    for constellation in constellation_list:\n",
    "        meteor_shower=meteor_showers.loc[meteor_showers['radiant']==constellation,'name'].iloc[0]\n",
    "        meteor_shower_startdate=meteor_showers.loc[meteor_showers['radiant']==constellation,'startdate'].iloc[0]\n",
    "        meteor_shower_enddate=meteor_showers.loc[meteor_showers['radiant']==constellation,'enddate'].iloc[0]\n",
    "        moon_phases_list=moon_phases.loc[(moon_phases['date']>=meteor_shower_startdate) & (moon_phases['date']<=meteor_shower_enddate)]\n",
    "        best_moon_date=moon_phases_list.loc[moon_phases_list['percentage'].idxmin(),'date']\n",
    "        message=\"You can see\"+\" \"+meteor_shower+\" \"+\"towards\"+\" \"+constellation+\" \"+\"at\"+\" \"+best_moon_date.to_pydatetime().strftime(\"%Y/%M/%d\")\n",
    "    return message\n",
    "    "
   ]
  },
  {
   "cell_type": "code",
   "execution_count": 51,
   "metadata": {},
   "outputs": [
    {
     "data": {
      "text/plain": [
       "['Lyra']"
      ]
     },
     "execution_count": 51,
     "metadata": {},
     "output_type": "execute_result"
    }
   ],
   "source": [
    "constellations.loc[(constellations['latitudestart']>=90) & (constellations['latitudeend']<=-40),'constellation'].tolist()"
   ]
  },
  {
   "cell_type": "code",
   "execution_count": 52,
   "metadata": {},
   "outputs": [
    {
     "data": {
      "text/plain": [
       "'You can see Lyrids towards Lyra at 2020/04/22'"
      ]
     },
     "execution_count": 52,
     "metadata": {},
     "output_type": "execute_result"
    }
   ],
   "source": [
    "predict_best_meteor_shower_viewing('Abu Dhabi')"
   ]
  },
  {
   "cell_type": "code",
   "execution_count": null,
   "metadata": {},
   "outputs": [],
   "source": [
    "cities['city'].values"
   ]
  },
  {
   "cell_type": "code",
   "execution_count": null,
   "metadata": {},
   "outputs": [],
   "source": []
  }
 ],
 "metadata": {
  "kernelspec": {
   "display_name": "Python 3",
   "language": "python",
   "name": "python3"
  },
  "language_info": {
   "codemirror_mode": {
    "name": "ipython",
    "version": 3
   },
   "file_extension": ".py",
   "mimetype": "text/x-python",
   "name": "python",
   "nbconvert_exporter": "python",
   "pygments_lexer": "ipython3",
   "version": "3.8.8"
  },
  "vscode": {
   "interpreter": {
    "hash": "d1f9ca6b55bd3dd476c88e8eebe7b654b1a0069e33ce03d3ad63ef8b50c4e187"
   }
  }
 },
 "nbformat": 4,
 "nbformat_minor": 4
}
